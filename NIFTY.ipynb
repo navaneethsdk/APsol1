{
  "nbformat": 4,
  "nbformat_minor": 0,
  "metadata": {
    "colab": {
      "name": "NIFTY.ipynb",
      "provenance": [],
      "authorship_tag": "ABX9TyPSAGMc7Hx0HZL8pPi+oF2u",
      "include_colab_link": true
    },
    "kernelspec": {
      "name": "python3",
      "display_name": "Python 3"
    }
  },
  "cells": [
    {
      "cell_type": "markdown",
      "metadata": {
        "id": "view-in-github",
        "colab_type": "text"
      },
      "source": [
        "<a href=\"https://colab.research.google.com/github/navaneethsdk/APsol1/blob/master/NIFTY.ipynb\" target=\"_parent\"><img src=\"https://colab.research.google.com/assets/colab-badge.svg\" alt=\"Open In Colab\"/></a>"
      ]
    },
    {
      "cell_type": "markdown",
      "metadata": {
        "id": "c7TXJiT59xwt",
        "colab_type": "text"
      },
      "source": [
        "NIFTY values are basically the values of stock prices at the end of each day\n"
      ]
    },
    {
      "cell_type": "markdown",
      "metadata": {
        "id": "G1s8AchPATsF",
        "colab_type": "text"
      },
      "source": [
        "#NIFTY case study"
      ]
    },
    {
      "cell_type": "code",
      "metadata": {
        "id": "EXJZlpLN8OTm",
        "colab_type": "code",
        "colab": {}
      },
      "source": [
        "import pandas as pd\n",
        "import numpy as np"
      ],
      "execution_count": null,
      "outputs": []
    },
    {
      "cell_type": "code",
      "metadata": {
        "id": "vlg2ScVq9N3Z",
        "colab_type": "code",
        "colab": {}
      },
      "source": [
        "#creating a oandas series\n",
        "nifty = pd.read_csv('/content/drive/My Drive/Colab Notebooks/Padhai/nifty-200623-235920.csv',index_col=0).iloc[:,0]"
      ],
      "execution_count": null,
      "outputs": []
    },
    {
      "cell_type": "code",
      "metadata": {
        "id": "6K69focRDbPW",
        "colab_type": "code",
        "colab": {
          "base_uri": "https://localhost:8080/",
          "height": 238
        },
        "outputId": "53a3278e-b453-4d54-dde9-e52c82b6b2fe"
      },
      "source": [
        "nifty"
      ],
      "execution_count": null,
      "outputs": [
        {
          "output_type": "execute_result",
          "data": {
            "text/plain": [
              "Date\n",
              "01-Jan-2019    10910.10\n",
              "02-Jan-2019    10792.50\n",
              "03-Jan-2019    10672.25\n",
              "04-Jan-2019    10727.35\n",
              "07-Jan-2019    10771.80\n",
              "                 ...   \n",
              "24-Dec-2019    12214.55\n",
              "26-Dec-2019    12126.55\n",
              "27-Dec-2019    12245.80\n",
              "30-Dec-2019    12255.85\n",
              "31-Dec-2019    12168.45\n",
              "Name: Close, Length: 245, dtype: float64"
            ]
          },
          "metadata": {
            "tags": []
          },
          "execution_count": 5
        }
      ]
    },
    {
      "cell_type": "code",
      "metadata": {
        "id": "Baws6iEpDcMP",
        "colab_type": "code",
        "colab": {
          "base_uri": "https://localhost:8080/",
          "height": 136
        },
        "outputId": "4e991d5a-e16a-460c-dc4a-1cc9fc4d1b00"
      },
      "source": [
        "nifty.head(5)"
      ],
      "execution_count": null,
      "outputs": [
        {
          "output_type": "execute_result",
          "data": {
            "text/plain": [
              "Date\n",
              "01-Jan-2019    10910.10\n",
              "02-Jan-2019    10792.50\n",
              "03-Jan-2019    10672.25\n",
              "04-Jan-2019    10727.35\n",
              "07-Jan-2019    10771.80\n",
              "Name: Close, dtype: float64"
            ]
          },
          "metadata": {
            "tags": []
          },
          "execution_count": 6
        }
      ]
    },
    {
      "cell_type": "code",
      "metadata": {
        "id": "zejvNFyoDuxp",
        "colab_type": "code",
        "colab": {
          "base_uri": "https://localhost:8080/",
          "height": 136
        },
        "outputId": "170d1383-df88-490c-964c-121dc3aa5bf8"
      },
      "source": [
        "nifty.tail(5)"
      ],
      "execution_count": null,
      "outputs": [
        {
          "output_type": "execute_result",
          "data": {
            "text/plain": [
              "Date\n",
              "24-Dec-2019    12214.55\n",
              "26-Dec-2019    12126.55\n",
              "27-Dec-2019    12245.80\n",
              "30-Dec-2019    12255.85\n",
              "31-Dec-2019    12168.45\n",
              "Name: Close, dtype: float64"
            ]
          },
          "metadata": {
            "tags": []
          },
          "execution_count": 7
        }
      ]
    },
    {
      "cell_type": "code",
      "metadata": {
        "id": "pUokYmkPDw6G",
        "colab_type": "code",
        "colab": {
          "base_uri": "https://localhost:8080/",
          "height": 34
        },
        "outputId": "ec344e7b-1332-4417-bb8f-d5a8aeee1126"
      },
      "source": [
        "np.mean(nifty)"
      ],
      "execution_count": null,
      "outputs": [
        {
          "output_type": "execute_result",
          "data": {
            "text/plain": [
              "11432.632244897959"
            ]
          },
          "metadata": {
            "tags": []
          },
          "execution_count": 10
        }
      ]
    },
    {
      "cell_type": "code",
      "metadata": {
        "id": "GbhuVDvgD-fB",
        "colab_type": "code",
        "colab": {
          "base_uri": "https://localhost:8080/",
          "height": 34
        },
        "outputId": "462ceb38-3f85-410b-f9e5-0fdf45e2f947"
      },
      "source": [
        "np.median(nifty)"
      ],
      "execution_count": null,
      "outputs": [
        {
          "output_type": "execute_result",
          "data": {
            "text/plain": [
              "11512.4"
            ]
          },
          "metadata": {
            "tags": []
          },
          "execution_count": 11
        }
      ]
    },
    {
      "cell_type": "code",
      "metadata": {
        "id": "bSOjeYnFEGmT",
        "colab_type": "code",
        "colab": {
          "base_uri": "https://localhost:8080/",
          "height": 34
        },
        "outputId": "3f76e041-4a86-4651-be23-9d8fb230a7cf"
      },
      "source": [
        "np.std(nifty)"
      ],
      "execution_count": null,
      "outputs": [
        {
          "output_type": "execute_result",
          "data": {
            "text/plain": [
              "453.2866947459807"
            ]
          },
          "metadata": {
            "tags": []
          },
          "execution_count": 12
        }
      ]
    },
    {
      "cell_type": "markdown",
      "metadata": {
        "id": "pxV6fru9ESvu",
        "colab_type": "text"
      },
      "source": [
        "WHat fraction of days did the markets close higher than the previous day's close"
      ]
    },
    {
      "cell_type": "code",
      "metadata": {
        "id": "KLG85kVLEPZq",
        "colab_type": "code",
        "colab": {
          "base_uri": "https://localhost:8080/",
          "height": 714
        },
        "outputId": "d9936eff-c1f2-41a9-e9d3-e328e9256d07"
      },
      "source": [
        "nifty.values"
      ],
      "execution_count": null,
      "outputs": [
        {
          "output_type": "execute_result",
          "data": {
            "text/plain": [
              "array([10910.1 , 10792.5 , 10672.25, 10727.35, 10771.8 , 10802.15,\n",
              "       10855.15, 10821.6 , 10794.95, 10737.6 , 10886.8 , 10890.3 ,\n",
              "       10905.2 , 10906.95, 10961.85, 10922.75, 10831.5 , 10849.8 ,\n",
              "       10780.55, 10661.55, 10652.2 , 10651.8 , 10830.95, 10893.65,\n",
              "       10912.25, 10934.35, 11062.45, 11069.4 , 10943.6 , 10888.8 ,\n",
              "       10831.4 , 10793.65, 10746.05, 10724.4 , 10640.95, 10604.35,\n",
              "       10735.45, 10789.85, 10791.65, 10880.1 , 10835.3 , 10806.65,\n",
              "       10792.5 , 10863.5 , 10987.45, 11053.  , 11058.2 , 11035.4 ,\n",
              "       11168.05, 11301.2 , 11341.7 , 11343.25, 11426.85, 11462.2 ,\n",
              "       11532.4 , 11521.05, 11456.9 , 11354.25, 11483.25, 11445.05,\n",
              "       11570.  , 11623.9 , 11669.15, 11713.2 , 11643.95, 11598.  ,\n",
              "       11665.95, 11604.5 , 11671.95, 11584.3 , 11596.7 , 11643.45,\n",
              "       11690.35, 11787.15, 11752.8 , 11594.45, 11575.95, 11726.15,\n",
              "       11641.8 , 11754.65, 11748.15, 11724.75, 11712.25, 11598.25,\n",
              "       11497.9 , 11359.45, 11301.8 , 11278.9 , 11148.2 , 11222.05,\n",
              "       11157.  , 11257.1 , 11407.15, 11828.25, 11709.1 , 11737.9 ,\n",
              "       11657.05, 11844.1 , 11924.75, 11928.75, 11861.1 , 11945.9 ,\n",
              "       11922.8 , 12088.55, 12021.65, 11843.75, 11870.65, 11922.7 ,\n",
              "       11965.6 , 11906.2 , 11914.05, 11823.3 , 11672.15, 11691.5 ,\n",
              "       11691.45, 11831.75, 11724.1 , 11699.65, 11796.45, 11847.55,\n",
              "       11841.55, 11788.85, 11865.6 , 11910.3 , 11916.75, 11946.75,\n",
              "       11811.15, 11558.6 , 11555.9 , 11498.9 , 11582.9 , 11552.5 ,\n",
              "       11588.35, 11662.6 , 11687.5 , 11596.9 , 11419.25, 11346.2 ,\n",
              "       11331.05, 11271.3 , 11252.15, 11284.3 , 11189.2 , 11085.4 ,\n",
              "       11118.  , 10980.  , 10997.35, 10862.6 , 10948.25, 10855.5 ,\n",
              "       11032.45, 11109.65, 10925.85, 11029.4 , 11047.8 , 11053.9 ,\n",
              "       11017.  , 10918.7 , 10741.35, 10829.35, 11057.85, 11105.35,\n",
              "       11046.1 , 10948.3 , 11023.25, 10797.9 , 10844.65, 10847.9 ,\n",
              "       10946.2 , 11003.05, 11035.7 , 10982.8 , 11075.9 , 11003.5 ,\n",
              "       10817.6 , 10840.65, 10704.8 , 11274.2 , 11600.2 , 11588.2 ,\n",
              "       11440.2 , 11571.2 , 11512.4 , 11474.45, 11359.9 , 11314.  ,\n",
              "       11174.75, 11126.4 , 11313.3 , 11234.55, 11305.05, 11341.15,\n",
              "       11428.3 , 11464.  , 11586.35, 11661.85, 11588.35, 11604.1 ,\n",
              "       11582.6 , 11583.9 , 11627.15, 11786.85, 11844.1 , 11877.45,\n",
              "       11890.6 , 11941.3 , 11917.2 , 11966.05, 12012.05, 11908.15,\n",
              "       11913.45, 11840.45, 11872.1 , 11895.45, 11884.5 , 11940.1 ,\n",
              "       11999.1 , 11968.4 , 11914.4 , 12073.75, 12037.7 , 12100.7 ,\n",
              "       12151.15, 12056.05, 12048.2 , 11994.2 , 12043.2 , 12018.4 ,\n",
              "       11921.5 , 11937.5 , 11856.8 , 11910.15, 11971.8 , 12086.7 ,\n",
              "       12053.95, 12165.  , 12221.65, 12259.7 , 12271.8 , 12262.75,\n",
              "       12214.55, 12126.55, 12245.8 , 12255.85, 12168.45])"
            ]
          },
          "metadata": {
            "tags": []
          },
          "execution_count": 13
        }
      ]
    },
    {
      "cell_type": "code",
      "metadata": {
        "id": "PPmD9QNHGD9Z",
        "colab_type": "code",
        "colab": {
          "base_uri": "https://localhost:8080/",
          "height": 34
        },
        "outputId": "14ce8b44-96dc-4fb5-b9e5-5a72fb959af2"
      },
      "source": [
        "np.sum((nifty.values[1:]-nifty.values[:-1]) > 0)/len(nifty)\n"
      ],
      "execution_count": null,
      "outputs": [
        {
          "output_type": "execute_result",
          "data": {
            "text/plain": [
              "0.5265306122448979"
            ]
          },
          "metadata": {
            "tags": []
          },
          "execution_count": 15
        }
      ]
    },
    {
      "cell_type": "markdown",
      "metadata": {
        "id": "yuG1BcudHjwS",
        "colab_type": "text"
      },
      "source": [
        "Compute moving average of last five days"
      ]
    },
    {
      "cell_type": "code",
      "metadata": {
        "id": "8TkBcqlXI8Z9",
        "colab_type": "code",
        "colab": {
          "base_uri": "https://localhost:8080/",
          "height": 34
        },
        "outputId": "b7ab6acd-0d6e-4505-c359-2ecdfa60ac4e"
      },
      "source": [
        "len(nifty.values[:-5])"
      ],
      "execution_count": null,
      "outputs": [
        {
          "output_type": "execute_result",
          "data": {
            "text/plain": [
              "240"
            ]
          },
          "metadata": {
            "tags": []
          },
          "execution_count": 17
        }
      ]
    },
    {
      "cell_type": "code",
      "metadata": {
        "id": "M0M2zf_zGhwt",
        "colab_type": "code",
        "colab": {}
      },
      "source": [
        "#meth1\n",
        "moving_avg_5=(nifty.values[:-5]+nifty.values[1:-4]+nifty.values[2:-3]+nifty.values[3:-2]+nifty.values[4:-1])/5"
      ],
      "execution_count": null,
      "outputs": []
    },
    {
      "cell_type": "code",
      "metadata": {
        "id": "H7Nm9nKALKDy",
        "colab_type": "code",
        "colab": {
          "base_uri": "https://localhost:8080/",
          "height": 697
        },
        "outputId": "e5e80126-9d9c-4de3-fbf4-87e43d04c774"
      },
      "source": [
        "moving_avg_5"
      ],
      "execution_count": null,
      "outputs": [
        {
          "output_type": "execute_result",
          "data": {
            "text/plain": [
              "array([10774.8 , 10753.21, 10765.74, 10795.61, 10809.13, 10802.29,\n",
              "       10819.22, 10826.25, 10842.97, 10865.37, 10910.22, 10917.41,\n",
              "       10905.65, 10894.57, 10869.29, 10809.23, 10755.12, 10719.18,\n",
              "       10715.41, 10738.03, 10788.17, 10844.6 , 10926.73, 10974.42,\n",
              "       10984.41, 10979.72, 10959.13, 10905.37, 10840.7 , 10796.86,\n",
              "       10747.29, 10701.88, 10690.24, 10699.  , 10712.45, 10760.28,\n",
              "       10806.47, 10820.71, 10821.24, 10835.61, 10857.08, 10900.62,\n",
              "       10950.93, 10999.51, 11060.42, 11123.17, 11180.91, 11237.92,\n",
              "       11316.21, 11375.04, 11421.28, 11457.15, 11479.88, 11465.36,\n",
              "       11469.57, 11452.1 , 11461.89, 11495.29, 11558.27, 11604.26,\n",
              "       11644.04, 11649.64, 11658.05, 11645.12, 11636.87, 11624.94,\n",
              "       11624.68, 11620.18, 11637.35, 11660.39, 11694.09, 11693.64,\n",
              "       11680.14, 11687.3 , 11658.23, 11658.6 , 11689.34, 11719.1 ,\n",
              "       11716.32, 11707.61, 11656.26, 11578.52, 11493.93, 11407.26,\n",
              "       11317.25, 11262.08, 11221.59, 11212.65, 11238.3 , 11374.31,\n",
              "       11471.72, 11587.9 , 11667.89, 11755.28, 11774.58, 11818.51,\n",
              "       11843.15, 11900.92, 11916.66, 11949.42, 11968.  , 11964.53,\n",
              "       11949.48, 11949.46, 11924.87, 11901.78, 11915.84, 11906.37,\n",
              "       11856.26, 11801.44, 11758.49, 11742.03, 11722.19, 11727.69,\n",
              "       11748.68, 11779.9 , 11781.86, 11794.81, 11828.  , 11850.77,\n",
              "       11864.61, 11885.65, 11890.11, 11828.71, 11757.83, 11674.26,\n",
              "       11601.49, 11549.76, 11555.71, 11577.05, 11614.77, 11617.57,\n",
              "       11590.92, 11542.49, 11476.18, 11392.94, 11323.99, 11297.  ,\n",
              "       11265.6 , 11216.47, 11185.81, 11131.38, 11073.99, 11008.67,\n",
              "       10981.24, 10928.74, 10939.23, 10961.69, 10974.34, 10990.57,\n",
              "       11029.03, 11033.32, 11014.79, 11013.36, 10955.75, 10912.06,\n",
              "       10912.85, 10930.52, 10956.  , 10997.39, 11036.17, 10984.18,\n",
              "       10932.04, 10892.4 , 10891.98, 10887.94, 10935.5 , 10963.13,\n",
              "       11008.73, 11020.19, 10983.1 , 10944.09, 10888.49, 10928.15,\n",
              "       11047.49, 11201.61, 11321.52, 11494.8 , 11542.44, 11517.29,\n",
              "       11471.63, 11446.39, 11367.1 , 11289.9 , 11257.67, 11232.6 ,\n",
              "       11230.81, 11264.09, 11324.47, 11354.61, 11424.97, 11496.33,\n",
              "       11545.77, 11580.93, 11604.65, 11604.16, 11597.22, 11636.92,\n",
              "       11684.92, 11743.89, 11805.23, 11868.06, 11894.13, 11918.52,\n",
              "       11945.44, 11948.95, 11943.38, 11928.03, 11909.24, 11885.92,\n",
              "       11881.19, 11886.52, 11918.25, 11937.51, 11941.3 , 11979.15,\n",
              "       11998.67, 12018.99, 12055.54, 12083.87, 12078.76, 12070.06,\n",
              "       12058.56, 12032.01, 12005.1 , 11982.96, 11955.48, 11928.87,\n",
              "       11919.55, 11952.59, 11975.88, 12037.52, 12099.82, 12157.4 ,\n",
              "       12194.42, 12236.18, 12246.09, 12227.07, 12224.29, 12221.1 ])"
            ]
          },
          "metadata": {
            "tags": []
          },
          "execution_count": 23
        }
      ]
    },
    {
      "cell_type": "code",
      "metadata": {
        "id": "r4f8A82fKV71",
        "colab_type": "code",
        "colab": {
          "base_uri": "https://localhost:8080/",
          "height": 221
        },
        "outputId": "d04b9deb-1e7b-4a58-ab30-7d91ae82f357"
      },
      "source": [
        "#meth2(efficient)\n",
        "new_index = map(pd.Timestamp, nifty.index)\n",
        "new_nifty = pd.Series(nifty, index=new_index)\n",
        "new_nifty.rolling('5d').mean()"
      ],
      "execution_count": null,
      "outputs": [
        {
          "output_type": "execute_result",
          "data": {
            "text/plain": [
              "2019-01-01    10910.100000\n",
              "2019-01-02    10851.300000\n",
              "2019-01-03    10791.616667\n",
              "2019-01-04    10775.550000\n",
              "2019-01-07    10723.800000\n",
              "                  ...     \n",
              "2019-12-24    12249.700000\n",
              "2019-12-26    12201.283333\n",
              "2019-12-27    12212.412500\n",
              "2019-12-30    12209.400000\n",
              "2019-12-31    12223.366667\n",
              "Name: Close, Length: 245, dtype: float64"
            ]
          },
          "metadata": {
            "tags": []
          },
          "execution_count": 24
        }
      ]
    },
    {
      "cell_type": "markdown",
      "metadata": {
        "id": "61oiwfT-HwlW",
        "colab_type": "text"
      },
      "source": [
        "Subset the data to include only that of fridays"
      ]
    },
    {
      "cell_type": "code",
      "metadata": {
        "id": "2d7Iy5loHvQC",
        "colab_type": "code",
        "colab": {}
      },
      "source": [
        "dow = new_nifty.copy()\n",
        "for i in dow.index:\n",
        "  dow[i] = i.dayofweek"
      ],
      "execution_count": null,
      "outputs": []
    },
    {
      "cell_type": "code",
      "metadata": {
        "id": "iD8pe0MhOZi6",
        "colab_type": "code",
        "colab": {
          "base_uri": "https://localhost:8080/",
          "height": 221
        },
        "outputId": "7833040e-7a5b-4a3c-cf12-af69e7b1a529"
      },
      "source": [
        "dow"
      ],
      "execution_count": null,
      "outputs": [
        {
          "output_type": "execute_result",
          "data": {
            "text/plain": [
              "2019-01-01    1.0\n",
              "2019-01-02    2.0\n",
              "2019-01-03    3.0\n",
              "2019-01-04    4.0\n",
              "2019-01-07    0.0\n",
              "             ... \n",
              "2019-12-24    1.0\n",
              "2019-12-26    3.0\n",
              "2019-12-27    4.0\n",
              "2019-12-30    0.0\n",
              "2019-12-31    1.0\n",
              "Name: Close, Length: 245, dtype: float64"
            ]
          },
          "metadata": {
            "tags": []
          },
          "execution_count": 28
        }
      ]
    },
    {
      "cell_type": "code",
      "metadata": {
        "id": "_DhdCjtWRaqU",
        "colab_type": "code",
        "colab": {
          "base_uri": "https://localhost:8080/",
          "height": 901
        },
        "outputId": "57340b75-b8cc-4153-a72d-4baa5402d487"
      },
      "source": [
        "new_nifty[dow == 4]"
      ],
      "execution_count": null,
      "outputs": [
        {
          "output_type": "execute_result",
          "data": {
            "text/plain": [
              "2019-01-04    10727.35\n",
              "2019-01-11    10794.95\n",
              "2019-01-18    10906.95\n",
              "2019-01-25    10780.55\n",
              "2019-02-01    10893.65\n",
              "2019-02-08    10943.60\n",
              "2019-02-15    10724.40\n",
              "2019-02-22    10791.65\n",
              "2019-03-01    10863.50\n",
              "2019-03-08    11035.40\n",
              "2019-03-15    11426.85\n",
              "2019-03-22    11456.90\n",
              "2019-03-29    11623.90\n",
              "2019-04-05    11665.95\n",
              "2019-04-12    11643.45\n",
              "2019-04-26    11754.65\n",
              "2019-05-03    11712.25\n",
              "2019-05-10    11278.90\n",
              "2019-05-17    11407.15\n",
              "2019-05-24    11844.10\n",
              "2019-05-31    11922.80\n",
              "2019-06-07    11870.65\n",
              "2019-06-14    11823.30\n",
              "2019-06-21    11724.10\n",
              "2019-06-28    11788.85\n",
              "2019-07-05    11811.15\n",
              "2019-07-12    11552.50\n",
              "2019-07-19    11419.25\n",
              "2019-07-26    11284.30\n",
              "2019-08-02    10997.35\n",
              "2019-08-09    11109.65\n",
              "2019-08-16    11047.80\n",
              "2019-08-23    10829.35\n",
              "2019-08-30    11023.25\n",
              "2019-09-06    10946.20\n",
              "2019-09-13    11075.90\n",
              "2019-09-20    11274.20\n",
              "2019-09-27    11512.40\n",
              "2019-10-04    11174.75\n",
              "2019-10-11    11305.05\n",
              "2019-10-18    11661.85\n",
              "2019-10-25    11583.90\n",
              "2019-11-01    11890.60\n",
              "2019-11-08    11908.15\n",
              "2019-11-15    11895.45\n",
              "2019-11-22    11914.40\n",
              "2019-11-29    12056.05\n",
              "2019-12-06    11921.50\n",
              "2019-12-13    12086.70\n",
              "2019-12-20    12271.80\n",
              "2019-12-27    12245.80\n",
              "Name: Close, dtype: float64"
            ]
          },
          "metadata": {
            "tags": []
          },
          "execution_count": 29
        }
      ]
    },
    {
      "cell_type": "code",
      "metadata": {
        "id": "ewvGWh_0RlI5",
        "colab_type": "code",
        "colab": {}
      },
      "source": [
        ""
      ],
      "execution_count": null,
      "outputs": []
    }
  ]
}